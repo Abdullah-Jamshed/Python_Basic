{
 "cells": [
  {
   "cell_type": "code",
   "execution_count": 1,
   "metadata": {},
   "outputs": [],
   "source": [
    "import module"
   ]
  },
  {
   "cell_type": "code",
   "execution_count": 5,
   "metadata": {},
   "outputs": [
    {
     "name": "stdout",
     "output_type": "stream",
     "text": [
      "enter value or q to qiut\n",
      "enter your number : q\n"
     ]
    }
   ],
   "source": [
    "a = ''\n",
    "while a != 'q':\n",
    "    print('enter value or q to qiut')\n",
    "    a = input('enter your number : ')\n",
    "    if a!='q':\n",
    "        a = int(a)\n",
    "        b = int(input('enter your number : '))\n",
    "\n",
    "        add = module.add(a,b)\n",
    "        print('result of addition is:'+str(add))\n",
    "        subract = module.subract(a,b)\n",
    "        print('result of subraction is :'+str(subract))\n",
    "        multiply = module.multiply(a,b)\n",
    "        print('result of multiplication :',str(multiply))\n",
    "        divide = module.divide(a,b)\n",
    "        print('result of division : ',str(divide))"
   ]
  },
  {
   "cell_type": "code",
   "execution_count": null,
   "metadata": {},
   "outputs": [],
   "source": []
  }
 ],
 "metadata": {
  "kernelspec": {
   "display_name": "Python 3",
   "language": "python",
   "name": "python3"
  },
  "language_info": {
   "codemirror_mode": {
    "name": "ipython",
    "version": 3
   },
   "file_extension": ".py",
   "mimetype": "text/x-python",
   "name": "python",
   "nbconvert_exporter": "python",
   "pygments_lexer": "ipython3",
   "version": "3.7.3"
  }
 },
 "nbformat": 4,
 "nbformat_minor": 2
}
