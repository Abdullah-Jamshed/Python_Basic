{
 "cells": [
  {
   "cell_type": "markdown",
   "metadata": {},
   "source": [
    "# CLASSES"
   ]
  },
  {
   "cell_type": "code",
   "execution_count": 13,
   "metadata": {},
   "outputs": [],
   "source": [
    "class Person():\n",
    "    def __init__(self,name,lastname,age):\n",
    "        self.name = name\n",
    "        self.lastname = lastname\n",
    "        self.age = age\n",
    "    \n",
    "    def bio(self):\n",
    "        print(f\"{self.name} is a s/o {self.lastname} of {self.age}\")"
   ]
  },
  {
   "cell_type": "code",
   "execution_count": 14,
   "metadata": {},
   "outputs": [],
   "source": [
    "bio1 = Person('Abdullah','Jamshed',19)"
   ]
  },
  {
   "cell_type": "code",
   "execution_count": 15,
   "metadata": {},
   "outputs": [
    {
     "name": "stdout",
     "output_type": "stream",
     "text": [
      "Abdullah is a s/o Jamshed of 19\n"
     ]
    }
   ],
   "source": [
    "bio1.bio()"
   ]
  },
  {
   "cell_type": "code",
   "execution_count": null,
   "metadata": {},
   "outputs": [],
   "source": []
  },
  {
   "cell_type": "markdown",
   "metadata": {},
   "source": [
    "# CHILD CLASS"
   ]
  },
  {
   "cell_type": "code",
   "execution_count": 33,
   "metadata": {},
   "outputs": [],
   "source": [
    "class Student(Person):\n",
    "    def __init__(self,name,lastname,age,subject,grade):\n",
    "        Person.__init__(self,name,lastname,age)\n",
    "        \n",
    "        self.subject = subject\n",
    "        self.grade = grade\n",
    "    def Info(self):\n",
    "        print(f\"{self.name} {self.lastname} passed {self.subject} with grade {self.grade}\")"
   ]
  },
  {
   "cell_type": "code",
   "execution_count": 34,
   "metadata": {},
   "outputs": [],
   "source": [
    "person1=Student(\"ABDULLAH\",\"JAMSHED\",23,\"oxford\",2019)"
   ]
  },
  {
   "cell_type": "code",
   "execution_count": 35,
   "metadata": {},
   "outputs": [
    {
     "name": "stdout",
     "output_type": "stream",
     "text": [
      "ABDULLAH JAMSHED passed oxford with grade 2019\n"
     ]
    }
   ],
   "source": [
    "person1.Info()"
   ]
  },
  {
   "cell_type": "markdown",
   "metadata": {},
   "source": [
    "# CONDITION IN CLASS"
   ]
  },
  {
   "cell_type": "code",
   "execution_count": 5,
   "metadata": {},
   "outputs": [],
   "source": [
    "class Car():\n",
    "    def __init__(self, make, model, year):\n",
    "    #attribute\n",
    "        self.make = make\n",
    "        self.model = model\n",
    "        self.year = year\n",
    "        self.milage = 0\n",
    "    \n",
    "    #methods\n",
    "    def car_desribtive(self):\n",
    "        print(f\"{self.make} {self.model} {self.year} {self.milage}\")\n",
    "    def car_milage(self,milage):\n",
    "        if milage>=self.milage:\n",
    "            self.milage += milage\n",
    "    "
   ]
  },
  {
   "cell_type": "code",
   "execution_count": 6,
   "metadata": {},
   "outputs": [],
   "source": [
    "car1=Car(\"honda\",\"civic\",\"2018\")"
   ]
  },
  {
   "cell_type": "code",
   "execution_count": 7,
   "metadata": {},
   "outputs": [],
   "source": [
    "car1.car_milage(160)"
   ]
  },
  {
   "cell_type": "code",
   "execution_count": 50,
   "metadata": {},
   "outputs": [
    {
     "name": "stdout",
     "output_type": "stream",
     "text": [
      "honda civic 2018 290\n"
     ]
    }
   ],
   "source": [
    "car1.car_desribtive()"
   ]
  },
  {
   "cell_type": "code",
   "execution_count": null,
   "metadata": {},
   "outputs": [],
   "source": [
    "class car():\n",
    "    def __init__(self,brand,model,year,power,*milage):\n",
    "        self.brand = brand\n",
    "        self.model = model\n",
    "        self.year = year\n",
    "        self.milage = milage\n",
    "        self.power = power\n",
    "    def cost(self):\n",
    "        if self.power >= 1000:\n",
    "            print(f\"{self.brand} introducing there new model {self.model} on {self.year} with milage {self.milage}\\n****its a luxury car****\".title())\n",
    "        else:\n",
    "            print(f\"{self.brand} introducing there new model {self.model} on {self.year} with milage {self.milage}\\n****its a basic car****\".title())\n"
   ]
  },
  {
   "cell_type": "code",
   "execution_count": 1,
   "metadata": {},
   "outputs": [],
   "source": [
    "class resturant():\n",
    "    def __init__(self,name,dis,Type):\n",
    "        self.name=name\n",
    "        self.type=Type\n",
    "        self.dis=dis\n",
    "    def Open(self):\n",
    "        print(f\"resturant is {self.dis}\")\n",
    "    def option(self):\n",
    "        print(f\"{self.name} is offer {self.type} type food\")"
   ]
  },
  {
   "cell_type": "code",
   "execution_count": 7,
   "metadata": {},
   "outputs": [],
   "source": [
    "class Three_resturant(resturant):\n",
    "    def __init__(self,name,dis,Type,no_of_seat,status):\n",
    "        super().__init__(name,dis,Type)\n",
    "        self.no_of_seat = no_of_seat\n",
    "        self.status = status\n",
    "    def describe_resturant(self):\n",
    "        print(self.name+\" is\"+self.status+\" resturant and no of tables are \"+str(self.no_of_seat))"
   ]
  },
  {
   "cell_type": "code",
   "execution_count": 8,
   "metadata": {},
   "outputs": [],
   "source": [
    "a = Three_resturant('gevini','karachi','desi',50,'open')"
   ]
  },
  {
   "cell_type": "code",
   "execution_count": 9,
   "metadata": {},
   "outputs": [
    {
     "name": "stdout",
     "output_type": "stream",
     "text": [
      "gevini isopen resturant and no of tables are 50\n"
     ]
    }
   ],
   "source": [
    "a.describe_resturant()"
   ]
  },
  {
   "cell_type": "code",
   "execution_count": 33,
   "metadata": {},
   "outputs": [],
   "source": [
    "class car():\n",
    "    def __init__(self,make,model,year):\n",
    "        self.make=make\n",
    "        self.model=model\n",
    "        self.year=year\n",
    "        self.audomeater=0\n",
    "        self.milage=0\n",
    "        self.fuel=0\n",
    "    def descriptive_name(self):\n",
    "        print(f\"{self.year} {self.make} {self.model}and milage {self.audomeater}\")\n",
    "    \n",
    "    def get_reading(self):\n",
    "        return self.audomeater\n",
    "    def update(self,milage):\n",
    "        if milage>=self.audomeater:\n",
    "            self.audomeater=milage\n",
    "            print(\"meter has been update\")\n",
    "        else:\n",
    "            print(\"you cant roll back\")\n",
    "    def reading(self,milage):\n",
    "        self.fuel=milage\n",
    "        print(str(self.fuel)+\" ltr\")"
   ]
  },
  {
   "cell_type": "code",
   "execution_count": 37,
   "metadata": {},
   "outputs": [],
   "source": [
    "a=car(\"honda\",\"latest\",\"2019\")\n"
   ]
  },
  {
   "cell_type": "code",
   "execution_count": 38,
   "metadata": {},
   "outputs": [
    {
     "name": "stdout",
     "output_type": "stream",
     "text": [
      "2019 honda latestand milage 0\n"
     ]
    }
   ],
   "source": [
    "a.descriptive_name()"
   ]
  },
  {
   "cell_type": "code",
   "execution_count": null,
   "metadata": {},
   "outputs": [],
   "source": []
  },
  {
   "cell_type": "code",
   "execution_count": 19,
   "metadata": {},
   "outputs": [],
   "source": [
    "class Patient():\n",
    "    def __init__(self, last_name, first_name, age):\n",
    "        self.last_name = last_name\n",
    "        self.first_name = first_name\n",
    "        self.age = age\n",
    "    def say_if_minor(self):\n",
    "        if self.age < 21:\n",
    "            print(f\"{self.last_name} is a minor\")\n",
    "    def change_last_name(self, new_last_name):\n",
    "        self.last_name = new_last_name"
   ]
  },
  {
   "cell_type": "code",
   "execution_count": 20,
   "metadata": {},
   "outputs": [],
   "source": [
    "p = Patient('ahmed','shakeel',12)"
   ]
  },
  {
   "cell_type": "code",
   "execution_count": 13,
   "metadata": {},
   "outputs": [],
   "source": [
    "p.change_last_name('faraz')"
   ]
  },
  {
   "cell_type": "code",
   "execution_count": 21,
   "metadata": {},
   "outputs": [
    {
     "name": "stdout",
     "output_type": "stream",
     "text": [
      "ahmed is a minor\n"
     ]
    }
   ],
   "source": [
    "p.say_if_minor()"
   ]
  },
  {
   "cell_type": "code",
   "execution_count": null,
   "metadata": {},
   "outputs": [],
   "source": []
  }
 ],
 "metadata": {
  "kernelspec": {
   "display_name": "Python 3",
   "language": "python",
   "name": "python3"
  },
  "language_info": {
   "codemirror_mode": {
    "name": "ipython",
    "version": 3
   },
   "file_extension": ".py",
   "mimetype": "text/x-python",
   "name": "python",
   "nbconvert_exporter": "python",
   "pygments_lexer": "ipython3",
   "version": "3.7.3"
  }
 },
 "nbformat": 4,
 "nbformat_minor": 2
}
