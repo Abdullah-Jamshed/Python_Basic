{
 "cells": [
  {
   "cell_type": "markdown",
   "metadata": {},
   "source": [
    "# DATA FILES IN \"W\" "
   ]
  },
  {
   "cell_type": "code",
   "execution_count": 38,
   "metadata": {},
   "outputs": [],
   "source": [
    "with open(\"C:/Users/FC/Desktop/python/txt file/mywrites.txt\",'w') as files:\n",
    "    files.write('hello world')"
   ]
  },
  {
   "cell_type": "code",
   "execution_count": 11,
   "metadata": {},
   "outputs": [
    {
     "name": "stdout",
     "output_type": "stream",
     "text": [
      "True\n"
     ]
    }
   ],
   "source": [
    "with open(\"C:/Users/FC/Desktop/python/txt file/mywrites.txt\",'w') as files:\n",
    "    f= files.writable()\n",
    "    print(f)"
   ]
  },
  {
   "cell_type": "code",
   "execution_count": 17,
   "metadata": {},
   "outputs": [
    {
     "name": "stdout",
     "output_type": "stream",
     "text": [
      "False\n"
     ]
    }
   ],
   "source": [
    "with open(\"C:/Users/FC/Desktop/python/txt file/mywrites.txt\",\"w\") as files:\n",
    "    f= files.write_through\n",
    "    print(f)"
   ]
  },
  {
   "cell_type": "code",
   "execution_count": 12,
   "metadata": {},
   "outputs": [
    {
     "name": "stdout",
     "output_type": "stream",
     "text": [
      "None\n"
     ]
    }
   ],
   "source": [
    "with open(\"C:/Users/FC/Desktop/python/txt file/mywrites.txt\",\"w\") as files:\n",
    "    d=files.writelines(\"\\n and i will inshallah\")\n",
    "    print(d)"
   ]
  },
  {
   "cell_type": "markdown",
   "metadata": {},
   "source": [
    "# DATA FILES IN \"A\""
   ]
  },
  {
   "cell_type": "code",
   "execution_count": 39,
   "metadata": {},
   "outputs": [],
   "source": [
    "with open(\"C:/Users/FC/Desktop/python/txt file/mywrites.txt\",\"a\") as files:                                         ##Append not overwrite previuos version \n",
    "    files.write(\"\\npakiostan zindabad\")  "
   ]
  },
  {
   "cell_type": "code",
   "execution_count": 14,
   "metadata": {},
   "outputs": [
    {
     "name": "stdout",
     "output_type": "stream",
     "text": [
      "True\n"
     ]
    }
   ],
   "source": [
    "with open(\"C:/Users/FC/Desktop/python/txt file/mywrites.txt\",\"a\") as files:\n",
    "    f = files.writable()\n",
    "    print(f)"
   ]
  },
  {
   "cell_type": "code",
   "execution_count": 15,
   "metadata": {},
   "outputs": [
    {
     "name": "stdout",
     "output_type": "stream",
     "text": [
      "False\n"
     ]
    }
   ],
   "source": [
    "with open(\"C:/Users/FC/Desktop/python/txt file/mywrites.txt\",\"a\") as files:\n",
    "    f = files.write_through\n",
    "    print(f)"
   ]
  },
  {
   "cell_type": "code",
   "execution_count": 31,
   "metadata": {},
   "outputs": [],
   "source": [
    "with open(\"C:/Users/FC/Desktop/python/txt file/mywrites.txt\",\"a\") as files:\n",
    "    files.writelines(\"\\nwe have to change our self to change paskistan\")"
   ]
  },
  {
   "cell_type": "markdown",
   "metadata": {},
   "source": [
    "# DATA FILES IN \"R\""
   ]
  },
  {
   "cell_type": "code",
   "execution_count": 40,
   "metadata": {},
   "outputs": [
    {
     "name": "stdout",
     "output_type": "stream",
     "text": [
      "hello world\n",
      "pakiostan zindabad\n"
     ]
    }
   ],
   "source": [
    "with open(\"C:/Users/FC/Desktop/python/txt file/mywrites.txt\",\"r\") as files:\n",
    "    READ = files.read()\n",
    "    print(READ)"
   ]
  },
  {
   "cell_type": "code",
   "execution_count": 89,
   "metadata": {},
   "outputs": [
    {
     "name": "stdout",
     "output_type": "stream",
     "text": [
      "True\n"
     ]
    }
   ],
   "source": [
    "with open(\"C:/Users/FC/Desktop/python/txt file/mywrites.txt\",\"r\") as files:\n",
    "    READ = files.readable()\n",
    "    print(READ)"
   ]
  },
  {
   "cell_type": "code",
   "execution_count": 21,
   "metadata": {},
   "outputs": [
    {
     "name": "stdout",
     "output_type": "stream",
     "text": [
      "hello world\n"
     ]
    }
   ],
   "source": [
    "with open(\"C:/Users/FC/Desktop/python/txt file/mywrites.txt\",\"r\") as files:\n",
    "    READ = files.readline()\n",
    "    print(READ)"
   ]
  },
  {
   "cell_type": "code",
   "execution_count": 24,
   "metadata": {},
   "outputs": [
    {
     "name": "stdout",
     "output_type": "stream",
     "text": [
      "['hello world']\n"
     ]
    }
   ],
   "source": [
    "with open(\"C:/Users/FC/Desktop/python/txt file/mywrites.txt\",\"r\") as files:\n",
    "    READ = files.readlines()\n",
    "    print(READ)"
   ]
  },
  {
   "cell_type": "code",
   "execution_count": 26,
   "metadata": {},
   "outputs": [
    {
     "name": "stdout",
     "output_type": "stream",
     "text": [
      "None\n"
     ]
    }
   ],
   "source": [
    "with open(\"C:/Users/FC/Desktop/python/txt file/mywrites.txt\",\"r\") as files:\n",
    "    READ = files.reconfigure()\n",
    "    print(READ)"
   ]
  },
  {
   "cell_type": "markdown",
   "metadata": {},
   "source": [
    "# DATA FILES IN \"R+\""
   ]
  },
  {
   "cell_type": "code",
   "execution_count": 47,
   "metadata": {},
   "outputs": [
    {
     "name": "stdout",
     "output_type": "stream",
     "text": [
      "True\n"
     ]
    }
   ],
   "source": [
    "with open(\"C:/Users/FC/Desktop/python/txt file/mywrites.txt\",\"r+\") as files:    \n",
    "                                              ##interperater came to last so in print it read it blank\n",
    "    f = files.writable()\n",
    "    #f = files.read()\n",
    "    print(f)"
   ]
  },
  {
   "cell_type": "markdown",
   "metadata": {},
   "source": [
    "# DATA FILES IN \"BR\""
   ]
  },
  {
   "cell_type": "code",
   "execution_count": 46,
   "metadata": {},
   "outputs": [
    {
     "name": "stdout",
     "output_type": "stream",
     "text": [
      "True\n"
     ]
    }
   ],
   "source": [
    "with open(\"C:/Users/FC/Desktop/python/txt file/mywrites.txt\",\"br\") as files:    \n",
    "                                         ##interperater came to last so in print it read it blank\n",
    "    f = files.write('good')\n",
    "    f = files.read()\n",
    "    print(f)"
   ]
  },
  {
   "cell_type": "code",
   "execution_count": null,
   "metadata": {},
   "outputs": [],
   "source": []
  },
  {
   "cell_type": "code",
   "execution_count": null,
   "metadata": {},
   "outputs": [],
   "source": []
  },
  {
   "cell_type": "code",
   "execution_count": null,
   "metadata": {},
   "outputs": [],
   "source": []
  },
  {
   "cell_type": "code",
   "execution_count": null,
   "metadata": {},
   "outputs": [],
   "source": []
  },
  {
   "cell_type": "code",
   "execution_count": null,
   "metadata": {},
   "outputs": [],
   "source": []
  }
 ],
 "metadata": {
  "kernelspec": {
   "display_name": "Python 3",
   "language": "python",
   "name": "python3"
  },
  "language_info": {
   "codemirror_mode": {
    "name": "ipython",
    "version": 3
   },
   "file_extension": ".py",
   "mimetype": "text/x-python",
   "name": "python",
   "nbconvert_exporter": "python",
   "pygments_lexer": "ipython3",
   "version": "3.7.3"
  }
 },
 "nbformat": 4,
 "nbformat_minor": 2
}
