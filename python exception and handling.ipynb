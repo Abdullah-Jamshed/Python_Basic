{
 "cells": [
  {
   "cell_type": "markdown",
   "metadata": {},
   "source": [
    "# SIMPLE EXCEPTION"
   ]
  },
  {
   "cell_type": "code",
   "execution_count": 1,
   "metadata": {},
   "outputs": [
    {
     "name": "stdout",
     "output_type": "stream",
     "text": [
      "enter your number : 5\n",
      "enter your number : 56\n",
      "your answer is : 0.08928571428571429\n",
      "if exception create \"else\"will not work \n"
     ]
    }
   ],
   "source": [
    "a = int(input(\"enter your number : \"))\n",
    "b = int(input(\"enter your number : \"))\n",
    "try:\n",
    "    if a%b == 0:\n",
    "        c = a//b\n",
    "    else:\n",
    "        c = a/b\n",
    "    print(\"your answer is : \"+str(c))\n",
    "except ZeroDivisionError:\n",
    "        print(\"enter correct value\")\n",
    "else:\n",
    "    print('if exception create \"else\" will not work ')"
   ]
  },
  {
   "cell_type": "code",
   "execution_count": 3,
   "metadata": {},
   "outputs": [
    {
     "name": "stdout",
     "output_type": "stream",
     "text": [
      "enter your number : 9\n",
      "enter your number : 8\n",
      "your answer is : 1.125\n",
      "\n",
      "pakistan zindabad\n"
     ]
    }
   ],
   "source": [
    "a = int(input(\"enter your number : \"))\n",
    "b = int(input(\"enter your number : \"))\n",
    "try:\n",
    "    if a%b == 0:\n",
    "        c = a//b\n",
    "    else:\n",
    "        c = a/b\n",
    "    print(\"your answer is : \"+str(c))\n",
    "except ZeroDivisionError:\n",
    "        print(\"enter correct value\")\n",
    "else:\n",
    "    print(\"\\npakistan zindabad\")"
   ]
  },
  {
   "cell_type": "markdown",
   "metadata": {},
   "source": [
    "# GENERAL EXCEPTIONS"
   ]
  },
  {
   "cell_type": "code",
   "execution_count": 3,
   "metadata": {},
   "outputs": [
    {
     "name": "stdout",
     "output_type": "stream",
     "text": [
      "enter your number : 45\n",
      "enter your number : 0\n",
      "enter correct value\n"
     ]
    }
   ],
   "source": [
    "a = int(input(\"enter your number : \"))         ## catch all the error \n",
    "b = int(input(\"enter your number : \"))\n",
    "C = []\n",
    "try:\n",
    "    if a%b == 0:\n",
    "        c = a//b\n",
    "    else:\n",
    "        c = a/b\n",
    "    print(\"your answer is : \"+str(c))\n",
    "    g =C[5]\n",
    "    print(g)\n",
    "except:\n",
    "    print(\"enter correct value\")"
   ]
  },
  {
   "cell_type": "markdown",
   "metadata": {},
   "source": [
    "# MULITPULE EXCEPTIONS"
   ]
  },
  {
   "cell_type": "code",
   "execution_count": 5,
   "metadata": {},
   "outputs": [
    {
     "name": "stdout",
     "output_type": "stream",
     "text": [
      "enter your number : 9\n",
      "enter your number : 0\n",
      "enter correct value\n",
      "finally will always run\n"
     ]
    }
   ],
   "source": [
    "a = int(input(\"enter your number : \"))\n",
    "b = int(input(\"enter your number : \"))\n",
    "C = []\n",
    "try:\n",
    "    if a%b == 0:\n",
    "        c = a//b\n",
    "    else:\n",
    "        c = a/b\n",
    "    print(\"your answer is : \"+str(c))\n",
    "    g = C[5]\n",
    "    print(g)\n",
    "except ZeroDivisionError:\n",
    "    print(\"enter correct value\")\n",
    "except IndexError:\n",
    "    print(\"invalid command\")         \n",
    "else:\n",
    "    print(\"if exception create 'ELSE' will not work \")\n",
    "finally:                                        ## finally will always run\n",
    "    print(\"finally will always run\")"
   ]
  },
  {
   "cell_type": "markdown",
   "metadata": {},
   "source": [
    "# ERROR RECOGNIZATION"
   ]
  },
  {
   "cell_type": "code",
   "execution_count": 8,
   "metadata": {},
   "outputs": [
    {
     "name": "stdout",
     "output_type": "stream",
     "text": [
      "enter your number : 5\n",
      "enter your number : 2\n",
      "your answer is : 2.5\n",
      "error name  : list index out of range\n",
      "finally will always run\n"
     ]
    }
   ],
   "source": [
    "a = int(input(\"enter your number : \"))\n",
    "b = int(input(\"enter your number : \"))\n",
    "C = []\n",
    "try:\n",
    "    if a%b == 0:\n",
    "        c = a//b\n",
    "    else:\n",
    "        c = a/b\n",
    "    print(\"your answer is : \"+str(c))\n",
    "    g = C[5]\n",
    "    print(g)\n",
    "except Exception as e:\n",
    "    print(\"error name  : \"+str(e))        \n",
    "else:\n",
    "    print(\"if exception create 'ELSE' will not work \")\n",
    "finally:                                        ## finally will always run\n",
    "    print(\"finally will always run\")"
   ]
  },
  {
   "cell_type": "code",
   "execution_count": 13,
   "metadata": {},
   "outputs": [
    {
     "name": "stdout",
     "output_type": "stream",
     "text": [
      "enter your number : 5\n",
      "enter your number : 7\n",
      "your answer is : 0.7142857142857143\n",
      "your nae is : list index out of range\n",
      "finally will always run\n"
     ]
    }
   ],
   "source": [
    "a = int(input(\"enter your number : \"))\n",
    "b = int(input(\"enter your number : \"))\n",
    "C = []\n",
    "try:\n",
    "    if a%b == 0:\n",
    "        c = a//b\n",
    "    else:\n",
    "        c = a/b\n",
    "    print(\"your answer is : \"+str(c))\n",
    "    g = C[5]\n",
    "    print(g)\n",
    "except ZeroDivisionError:\n",
    "    print(\"enter correct value\")                  ## As interperater stop when it catch exception\n",
    "except Exception as e:\n",
    "    print(\"your nae is : \"+str(e))         \n",
    "else:\n",
    "    print(\"if exception create 'ELSE' will not work \")\n",
    "finally:                                        ## finally will always run\n",
    "    print(\"finally will always run\")"
   ]
  },
  {
   "cell_type": "markdown",
   "metadata": {},
   "source": [
    "# RAISING OUR OWN EXCEPTION"
   ]
  },
  {
   "cell_type": "code",
   "execution_count": 47,
   "metadata": {},
   "outputs": [
    {
     "name": "stdout",
     "output_type": "stream",
     "text": [
      "Enter students age: 5\n",
      "age should be greater than 16 and less than 80\n"
     ]
    }
   ],
   "source": [
    "class Student():\n",
    "    def __init__(self,name,age):\n",
    "        if age<16 or age > 80: \n",
    "            raise Exception(\"age should be greater than 16 and less than 80\")\n",
    "        self.name = name\n",
    "        self.age = age\n",
    "    try:\n",
    "        age = int(input(\"Enter students age: \"))\n",
    "        student1 = Student(\"Abdullah Jamshed\",age)\n",
    "    except Exception as e:\n",
    "        print(e)"
   ]
  },
  {
   "cell_type": "code",
   "execution_count": null,
   "metadata": {},
   "outputs": [],
   "source": []
  },
  {
   "cell_type": "code",
   "execution_count": null,
   "metadata": {},
   "outputs": [],
   "source": []
  },
  {
   "cell_type": "code",
   "execution_count": null,
   "metadata": {},
   "outputs": [],
   "source": []
  }
 ],
 "metadata": {
  "kernelspec": {
   "display_name": "Python 3",
   "language": "python",
   "name": "python3"
  },
  "language_info": {
   "codemirror_mode": {
    "name": "ipython",
    "version": 3
   },
   "file_extension": ".py",
   "mimetype": "text/x-python",
   "name": "python",
   "nbconvert_exporter": "python",
   "pygments_lexer": "ipython3",
   "version": "3.7.3"
  }
 },
 "nbformat": 4,
 "nbformat_minor": 2
}
