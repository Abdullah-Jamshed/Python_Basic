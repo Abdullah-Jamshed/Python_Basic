{
 "cells": [
  {
   "cell_type": "markdown",
   "metadata": {},
   "source": [
    "## Input "
   ]
  },
  {
   "cell_type": "code",
   "execution_count": 13,
   "metadata": {},
   "outputs": [
    {
     "name": "stdout",
     "output_type": "stream",
     "text": [
      "abdullahis invited\n"
     ]
    }
   ],
   "source": [
    "user_input = input(\"enter your name :\")\n",
    "\n",
    "\n",
    "name_list = ['abdullah','jamshed','fahad']\n",
    "if user_input in name_list:\n",
    "    print(user_input+\"is invited\")"
   ]
  },
  {
   "cell_type": "code",
   "execution_count": 18,
   "metadata": {},
   "outputs": [
    {
     "name": "stdout",
     "output_type": "stream",
     "text": [
      "enter your name :AbduLLAh\n",
      "AbduLLAh is invited\n"
     ]
    }
   ],
   "source": [
    "user_input = input(\"enter your name :\").lower()\n",
    "\n",
    "\n",
    "name_list = ['abdullah','jamshed','fahad']\n",
    "if user_input in name_list:\n",
    "    print(user_input+\" is invited\")"
   ]
  },
  {
   "cell_type": "code",
   "execution_count": 7,
   "metadata": {},
   "outputs": [
    {
     "name": "stdout",
     "output_type": "stream",
     "text": [
      "enter your name :\n"
     ]
    }
   ],
   "source": [
    "user_input = input(\"enter your name :\").upper()\n",
    "\n",
    "\n",
    "name_list = ['abdullah','JAMSHED','fahad']\n",
    "if user_input in name_list:\n",
    "    print(user_input+\" is invited\")"
   ]
  },
  {
   "cell_type": "code",
   "execution_count": 9,
   "metadata": {},
   "outputs": [
    {
     "name": "stdout",
     "output_type": "stream",
     "text": [
      "enter number :45\n",
      "enter number :54\n",
      "99\n"
     ]
    }
   ],
   "source": [
    "user_input = int(input(\"enter number :\"))\n",
    "user_input1 = int(input(\"enter number :\"))\n",
    "if user_input & user_input1 >0:\n",
    "    sum = user_input+user_input1\n",
    "    print(sum)"
   ]
  },
  {
   "cell_type": "code",
   "execution_count": null,
   "metadata": {},
   "outputs": [],
   "source": []
  }
 ],
 "metadata": {
  "kernelspec": {
   "display_name": "Python 3",
   "language": "python",
   "name": "python3"
  },
  "language_info": {
   "codemirror_mode": {
    "name": "ipython",
    "version": 3
   },
   "file_extension": ".py",
   "mimetype": "text/x-python",
   "name": "python",
   "nbconvert_exporter": "python",
   "pygments_lexer": "ipython3",
   "version": "3.7.3"
  }
 },
 "nbformat": 4,
 "nbformat_minor": 2
}
